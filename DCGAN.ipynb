{
 "cells": [
  {
   "cell_type": "markdown",
   "metadata": {},
   "source": [
    "# DCGAN Implementation\n",
    "\n",
    "Implementation of the (vanilla) Deep Convolutional Generative Adversarial Network defined by <a href=\"https://arxiv.org/pdf/1511.06434.pdf\">Radford, Metz, and Chintala (2016)</a>.  Testing is done on the <a href=\"https://www.cs.toronto.edu/~kriz/cifar.html\">CIFAR-10</a> benchmark image dataset, stored in pickled format in the `data/` directory."
   ]
  },
  {
   "cell_type": "code",
   "execution_count": 1,
   "metadata": {},
   "outputs": [],
   "source": [
    "import numpy as np\n",
    "import pandas as pd\n",
    "import matplotlib.pyplot as plt\n",
    "%matplotlib inline\n",
    "\n",
    "import torch\n",
    "import torch.nn as nn"
   ]
  },
  {
   "cell_type": "markdown",
   "metadata": {},
   "source": [
    "## Load CIFAR Data"
   ]
  },
  {
   "cell_type": "code",
   "execution_count": 69,
   "metadata": {},
   "outputs": [],
   "source": [
    "# Helper functions to convert CIFAR-10 to Pytorch Dataset\n",
    "\n",
    "def unpickle(file):\n",
    "    import pickle\n",
    "    with open(file, 'rb') as in_file:\n",
    "        pickle_dict = pickle.load(in_file, encoding='bytes')\n",
    "    return pickle_dict\n",
    "\n",
    "\n",
    "def read_data(file_name):\n",
    "    \"\"\"Given path to CIFAR data batch, returns raw X, y tensors.\"\"\"\n",
    "    \n",
    "    batch_dict = unpickle(file_name)\n",
    "    X_raw = torch.tensor(batch_dict[b'data']).float()\n",
    "    y_raw = torch.tensor(batch_dict[b'labels']).long()\n",
    "    return X_raw, y_raw\n",
    "\n",
    "\n",
    "def shape_image(X):\n",
    "    \"\"\"Reshapes raw data tensor to nn.module-compatible RGB image\"\"\"\n",
    "    \n",
    "    # Each row of X_raw contains RGB color channels concatenated in row-major order\n",
    "    # Need to first split channels into dim 1 on tensor, then shape dim 2/3 into image\n",
    "    image_size = 32*32\n",
    "    X = torch.split(X.unsqueeze(dim=1), image_size, dim=2)\n",
    "    X = torch.cat(X, dim=1)\n",
    "    X = X.view(-1, 3, 32, 32)   # (N, channels, pixel rows, pixel cols)\n",
    "    return X\n",
    "\n",
    "\n",
    "def normalize(X, a=-1, b=1):\n",
    "    \"\"\"Normalizes data tensor to [a, b] using min-max scaling.\"\"\"\n",
    "    \n",
    "    data_min = torch.min(X).float().item()\n",
    "    data_max = torch.max(X).float().item()\n",
    "    assert a < b, \"Rescaled range [a, b] must have a < b\"\n",
    "    \n",
    "    # First scale to [0, 1], then rescale to [a, b]\n",
    "    X = (X - data_min) / (data_max - data_min)\n",
    "    X = (X * (b - a)) + a  \n",
    "    return X\n",
    "\n",
    "\n",
    "class CIFARDataset(torch.utils.data.Dataset):\n",
    "    \"\"\"Custom Dataset class which preprocesses and stores datasets\n",
    "       from CIFAR batch files.  Works for CIFAR-10 and CIFAR-100.\"\"\"\n",
    "    \n",
    "    def __init__(self, file_list, use_cuda=False):\n",
    "        # Get list of (X, y) tuples, concatenate corresponding tensors\n",
    "        combined_list = [read_data(file_name) for file_name in file_list]\n",
    "        X_list, y_list = list(zip(*combined_list))\n",
    "        X = torch.cat(X_list, dim=0)\n",
    "        y = torch.cat(y_list, dim=0)\n",
    "        \n",
    "        self.data = normalize(shape_image(X))\n",
    "        self.labels = y\n",
    "        \n",
    "    def __len__(self):\n",
    "        return self.data.shape[0]\n",
    "    \n",
    "    def __getitem__(self, index):\n",
    "        # Generates an (X, y) pair at given index\n",
    "        return self.data[index, :], self.labels[index]"
   ]
  },
  {
   "cell_type": "code",
   "execution_count": 92,
   "metadata": {},
   "outputs": [
    {
     "data": {
      "image/png": "[encoded data removed]",
      "text/plain": [
       "<Figure size 1296x432 with 3 Axes>"
      ]
     },
     "metadata": {
      "needs_background": "light"
     },
     "output_type": "display_data"
    }
   ],
   "source": [
    "train_set = CIFARDataset([f\"data/data_batch_{n}\" for n in range(1, 6)])\n",
    "test_set = CIFARDataset([\"data/test_batch\"])\n",
    "cifar_meta = unpickle(\"data/batches.meta\")\n",
    "\n",
    "# Visualize a few random examples\n",
    "fig, ax = plt.subplots(1, 3, figsize=(18, 6))\n",
    "for i in range(3):\n",
    "    X, y = train_set[i*1000]\n",
    "    image = (X.squeeze().permute(1, 2, 0) + 1) / 2\n",
    "    ax[i].imshow(image)\n",
    "    ax[i].axis(\"off\")\n",
    "    ax[i].set_title(cifar_meta[b'label_names'][y.item()].decode('ascii'))\n",
    "plt.suptitle(\"CIFAR-10 sample images\")\n",
    "plt.show()"
   ]
  },
  {
   "cell_type": "code",
   "execution_count": null,
   "metadata": {},
   "outputs": [],
   "source": []
  }
 ],
 "metadata": {
  "kernelspec": {
   "display_name": "Python 3",
   "language": "python",
   "name": "python3"
  },
  "language_info": {
   "codemirror_mode": {
    "name": "ipython",
    "version": 3
   },
   "file_extension": ".py",
   "mimetype": "text/x-python",
   "name": "python",
   "nbconvert_exporter": "python",
   "pygments_lexer": "ipython3",
   "version": "3.7.4"
  }
 },
 "nbformat": 4,
 "nbformat_minor": 4
}
